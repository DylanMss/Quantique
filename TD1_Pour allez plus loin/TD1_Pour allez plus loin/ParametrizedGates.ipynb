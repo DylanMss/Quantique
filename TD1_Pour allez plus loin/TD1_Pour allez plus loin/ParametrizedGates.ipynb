{
 "cells": [
  {
   "cell_type": "markdown",
   "metadata": {
    "qat-category": "1-Circuit generation in Python",
    "qat-summary": "1-Creation of an EPR pair using two qubits"
   },
   "source": [
    "# TP1PlusLoin : Portes quantiques paramétrées\n",
    "\n",
    "\n"
   ]
  },
  {
   "cell_type": "markdown",
   "metadata": {},
   "source": [
    "L'objectif de ce Notebook, est d'apprendre à appliquer des portes paramétrées et à mettre l'accent sur le lien entre l'amplitude et la probabilité."
   ]
  },
  {
   "cell_type": "markdown",
   "metadata": {},
   "source": [
    "## Portes paramétrées"
   ]
  },
  {
   "cell_type": "markdown",
   "metadata": {},
   "source": [
    "### Rotation de qubit\n",
    "\n",
    "La première étape sera de créer un circuit simple avec :\n",
    "+ un seul qubit\n",
    "+ une seule porte\n",
    "\n",
    "L'objectif est de créer une superposition de :\n",
    "+ 30% pour obtenir l'état 0\n",
    "+ 70% pour obtenir l'état 1"
   ]
  },
  {
   "cell_type": "markdown",
   "metadata": {},
   "source": [
    "\n",
    "<table>\n",
    "    <tr><td>\n",
    "        <img src=\"qrotation.png\"></td>\n",
    "    </tr>\n",
    "</table>"
   ]
  },
  {
   "cell_type": "markdown",
   "metadata": {},
   "source": [
    "Vous devez savoir que :\n",
    "+ l'état initial est $|\\psi_0> = |0> =\\begin{pmatrix} 1  \\\\  0 \\end{pmatrix}$\n",
    "+ un état général peut être représenté  $|\\psi> = \\alpha|0> + \\beta|1> =\\begin{pmatrix} \\alpha  \\\\  \\beta \\end{pmatrix}$\n",
    "+ généralement, $p(0) = |\\alpha|^2$ et $p(1) = |\\beta|^2$\n",
    "\n",
    "Nous utiliserons une seule rotation le long de l'axe des ordonnées pour obtenir 30% pour |0> et 70% pour |1>:\n",
    "+ $R_y(\\theta) = e^{-i\\theta Y/2}= \\cos \\frac{\\theta}{2}I - i \\sin \\frac{\\theta}{2} Y = \n",
    "\\begin{pmatrix}\n",
    "    \\cos \\frac{\\theta}{2} & -\\sin\\frac{\\theta}{2} \\\\\n",
    "    \\sin\\frac{\\theta}{2} & \\cos\\frac{\\theta}{2} \n",
    "\\end{pmatrix}$\n",
    "\n",
    "Dans la cellule suivante, \n",
    "+ créez un circuit avec un seul qubit \n",
    "+ une seule porte de rotation le long de l'axe Y avec un angle correct de sorte que la distribution de probabilité soit celle ci-dessus."
   ]
  },
  {
   "cell_type": "code",
   "execution_count": null,
   "metadata": {},
   "outputs": [],
   "source": []
  },
  {
   "cell_type": "markdown",
   "metadata": {},
   "source": [
    "Écrire dans la cellule suivante le code pour l'affichage du circuit."
   ]
  },
  {
   "cell_type": "code",
   "execution_count": null,
   "metadata": {},
   "outputs": [],
   "source": []
  },
  {
   "cell_type": "markdown",
   "metadata": {},
   "source": [
    "Écrire dans la cellule suivante le code pour imprimer la distribution complète du circuit :"
   ]
  },
  {
   "cell_type": "code",
   "execution_count": null,
   "metadata": {},
   "outputs": [],
   "source": []
  },
  {
   "cell_type": "markdown",
   "metadata": {},
   "source": [
    "Dans la cellule suivante, faire le même exercice, en remplaçant la rotation selon l'axe Y par une rotation selon l'axe X (en utilisant le même angle que précédemment). Expliquez le résultat."
   ]
  },
  {
   "cell_type": "code",
   "execution_count": null,
   "metadata": {},
   "outputs": [],
   "source": []
  },
  {
   "cell_type": "markdown",
   "metadata": {},
   "source": [
    "### Rotation de 2 qubits"
   ]
  },
  {
   "cell_type": "markdown",
   "metadata": {},
   "source": [
    "Continuons avec :\n",
    "+ deux qubits\n",
    "+ deux portes\n",
    "\n",
    "le résultat que nous voulons est :\n",
    "+ 24% pour |00>\n",
    "+ 56% pour |01>\n",
    "+ 6%  pour |10>\n",
    "+ 14% pour |11>\n",
    "\n",
    "sans intrication et avec deux qubits :\n",
    "+ |$q_0$> = $\\alpha_0 |0> + \\beta_0 |1>$ with $|\\alpha_0|^2 + |\\beta_0|^2 = 1$\n",
    "+ |$q_1$> = $\\alpha_1 |0> + \\beta_1 |1>$ with $|\\alpha_1|^2 + |\\beta_1|^2 = 1$\n",
    "+ |$q_0$>|$q_1$> = $\\alpha_0 \\alpha_1 |00> + \\alpha_0 \\beta_1 |01> + \\beta_0 \\alpha_1 |10>  + \\beta_0 \\beta_1 |11>$\n",
    "\n",
    "Écrire dans la cellule suivante un code réalisant la distribution de probabilité ci-dessus en utilisant 2 deux rotations le long de l'axe Y."
   ]
  },
  {
   "cell_type": "code",
   "execution_count": null,
   "metadata": {},
   "outputs": [],
   "source": []
  },
  {
   "cell_type": "code",
   "execution_count": null,
   "metadata": {},
   "outputs": [],
   "source": []
  }
 ],
 "metadata": {
  "kernelspec": {
   "display_name": "Python 3 (ipykernel)",
   "language": "python",
   "name": "python3"
  },
  "language_info": {
   "codemirror_mode": {
    "name": "ipython",
    "version": 3
   },
   "file_extension": ".py",
   "mimetype": "text/x-python",
   "name": "python",
   "nbconvert_exporter": "python",
   "pygments_lexer": "ipython3",
   "version": "3.11.8"
  }
 },
 "nbformat": 4,
 "nbformat_minor": 4
}
